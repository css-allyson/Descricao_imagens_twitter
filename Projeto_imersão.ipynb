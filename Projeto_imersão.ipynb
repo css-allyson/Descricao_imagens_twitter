{
  "nbformat": 4,
  "nbformat_minor": 0,
  "metadata": {
    "colab": {
      "provenance": [],
      "authorship_tag": "ABX9TyOLGg5jLq2n6DPxBi8TgYex",
      "include_colab_link": true
    },
    "kernelspec": {
      "name": "python3",
      "display_name": "Python 3"
    },
    "language_info": {
      "name": "python"
    }
  },
  "cells": [
    {
      "cell_type": "markdown",
      "metadata": {
        "id": "view-in-github",
        "colab_type": "text"
      },
      "source": [
        "<a href=\"https://colab.research.google.com/github/css-allyson/Descricao_imagens_twitter/blob/main/Projeto_imers%C3%A3o.ipynb\" target=\"_parent\"><img src=\"https://colab.research.google.com/assets/colab-badge.svg\" alt=\"Open In Colab\"/></a>"
      ]
    },
    {
      "cell_type": "code",
      "execution_count": 1,
      "metadata": {
        "id": "cpGLeK1zR26f"
      },
      "outputs": [],
      "source": [
        "!pip install -q -U google-generativeai"
      ]
    },
    {
      "cell_type": "code",
      "source": [
        "# Import the Python SDK\n",
        "import google.generativeai as genai\n",
        "# Used to securely store your API key\n",
        "from google.colab import userdata\n",
        "\n",
        "GOOGLE_API_KEY=userdata.get('Gemini')\n",
        "genai.configure(api_key=GOOGLE_API_KEY)"
      ],
      "metadata": {
        "id": "pBaeKrWAT3dF"
      },
      "execution_count": 2,
      "outputs": []
    },
    {
      "cell_type": "markdown",
      "source": [
        "Lista de modelos disponíveis"
      ],
      "metadata": {
        "id": "h8-VQRKiU--2"
      }
    },
    {
      "cell_type": "code",
      "source": [
        "for modelo in genai.list_models():\n",
        "  if 'generateContent' in modelo.supported_generation_methods:\n",
        "    print(f'Modelo: {modelo.name}')"
      ],
      "metadata": {
        "colab": {
          "base_uri": "https://localhost:8080/",
          "height": 139
        },
        "id": "lQ39IVQ6UF2G",
        "outputId": "f7d86231-b6d2-463e-a55a-c6a2190798c5"
      },
      "execution_count": 8,
      "outputs": [
        {
          "output_type": "stream",
          "name": "stdout",
          "text": [
            "Modelo: models/gemini-1.0-pro\n",
            "Modelo: models/gemini-1.0-pro-001\n",
            "Modelo: models/gemini-1.0-pro-latest\n",
            "Modelo: models/gemini-1.0-pro-vision-latest\n",
            "Modelo: models/gemini-1.5-pro-latest\n",
            "Modelo: models/gemini-pro\n",
            "Modelo: models/gemini-pro-vision\n"
          ]
        }
      ]
    },
    {
      "cell_type": "code",
      "source": [
        "generation_config = {\n",
        "    \"candidate_count\":1,\n",
        "    \"temperature\":0.5\n",
        "}"
      ],
      "metadata": {
        "id": "-dNLmG_XWsNz"
      },
      "execution_count": 11,
      "outputs": []
    },
    {
      "cell_type": "code",
      "source": [
        "safety_settings = {\n",
        "    \"HARASSMENT\": \"BLOCK_NONE\",\n",
        "    \"HATE\": \"BLOCK_NONE\",\n",
        "    \"SEXUAL\": \"BLOCK_NONE\",\n",
        "    \"DANGEROUS\": \"BLOCK_NONE\"\n",
        "}"
      ],
      "metadata": {
        "id": "QqoYtOaVXBGi"
      },
      "execution_count": 10,
      "outputs": []
    },
    {
      "cell_type": "code",
      "source": [
        "model = genai.GenerativeModel(model_name= \"gemini-1.0-pro\",\n",
        "                              safety_settings = safety_settings,\n",
        "                              generation_config=generation_config)"
      ],
      "metadata": {
        "id": "V20ofqgfXs3u"
      },
      "execution_count": 13,
      "outputs": []
    },
    {
      "cell_type": "code",
      "source": [
        "response = model.generate_content(\"Vamos aprender conteúdo sobre IA. Me dê sugestões\")\n",
        "print(response.text)"
      ],
      "metadata": {
        "colab": {
          "base_uri": "https://localhost:8080/",
          "height": 555
        },
        "id": "EH4xbU2BYRH3",
        "outputId": "432fb432-4baf-48a3-82db-8c0e1fa6f221"
      },
      "execution_count": 14,
      "outputs": [
        {
          "output_type": "stream",
          "name": "stdout",
          "text": [
            "**Recursos Online:**\n",
            "\n",
            "* **Coursera:** Cursos de IA de universidades de renome, como Stanford e Johns Hopkins\n",
            "* **edX:** Cursos de IA de instituições como MIT e Harvard\n",
            "* **Udemy:** Vários cursos de IA para diferentes níveis de habilidade\n",
            "* **Kaggle:** Plataforma de aprendizado de máquina com fóruns e competições\n",
            "* **TensorFlow:** Documentação oficial e tutoriais para a biblioteca de aprendizado de máquina do Google\n",
            "\n",
            "**Livros:**\n",
            "\n",
            "* **Inteligência Artificial: Uma Abordagem Moderna (3ª Edição)** por Stuart Russell e Peter Norvig\n",
            "* **Aprendizado de Máquina** por Tom Mitchell\n",
            "* **Aprendizado Profundo** por Ian Goodfellow, Yoshua Bengio e Aaron Courville\n",
            "* **IA para Todos** por Andrew Ng e Ernest Davis\n",
            "* **Inteligência Artificial: Conceitos e Aplicações** por Kevin Warwick\n",
            "\n",
            "**Vídeos:**\n",
            "\n",
            "* **Canal do YouTube do DeepMind:** Vídeos sobre pesquisas e aplicações avançadas de IA\n",
            "* **Canal do YouTube do MIT OpenCourseWare:** Palestras de cursos de IA do MIT\n",
            "* **Canal do YouTube do Stanford Online:** Palestras de cursos de IA da Universidade de Stanford\n",
            "* **Canal do YouTube do Google AI:** Vídeos sobre os últimos avanços e tecnologias de IA do Google\n",
            "* **Canal do YouTube do Coursera:** Cursos de IA gratuitos de universidades parceiras\n",
            "\n",
            "**Podcasts:**\n",
            "\n",
            "* **O Podcast de Inteligência Artificial:** Entrevistas com especialistas em IA e discussões sobre tendências do setor\n",
            "* **Aprendizado de Máquina para Todos:** Introdução ao aprendizado de máquina e IA\n",
            "* **AI Now:** Discussões sobre os impactos sociais e éticos da IA\n",
            "* **The Robot Brains Podcast:** Entrevistas com pesquisadores de IA e líderes da indústria\n",
            "* **O Podcast de Aprendizado Profundo:** Tópicos avançados em aprendizado profundo e IA\n"
          ]
        }
      ]
    },
    {
      "cell_type": "code",
      "source": [
        "chat = model.start_chat(history=[])"
      ],
      "metadata": {
        "id": "q5rC_cvbYwG9"
      },
      "execution_count": 15,
      "outputs": []
    },
    {
      "cell_type": "code",
      "source": [
        "prompt = input(\"Esperando o prompt:\")\n",
        "while prompt != \"fim\":\n",
        "  response = chat.send_message(prompt)\n",
        "  print(\"Resposta: \",response.text,\"\\n\")\n",
        "  prompt = input(\"Esperando o prompt:\")"
      ],
      "metadata": {
        "colab": {
          "base_uri": "https://localhost:8080/",
          "height": 211
        },
        "id": "GGolcVBdZGAN",
        "outputId": "27f4236c-b8e5-45d7-99b0-6bd60f8f16c8"
      },
      "execution_count": 16,
      "outputs": [
        {
          "name": "stdout",
          "output_type": "stream",
          "text": [
            "Esperando o prompt:Eu moro em qual cidade?\n",
            "Resposta:  Não tenho acesso a informações pessoais, portanto não posso responder a essa pergunta. \n",
            "\n",
            "Esperando o prompt:Eu moro em natal\n",
            "Resposta:  Você mora em Natal, a capital do Rio Grande do Norte. É uma cidade litorânea conhecida por suas belas praias, como Ponta Negra e Praia do Forte, e por sua cultura vibrante, incluindo o famoso forró. \n",
            "\n",
            "Esperando o prompt:Em que cidade eu moro?\n",
            "Resposta:  Natal \n",
            "\n",
            "Esperando o prompt:fim\n"
          ]
        }
      ]
    },
    {
      "cell_type": "code",
      "source": [],
      "metadata": {
        "id": "lflkUQnJZQKu"
      },
      "execution_count": null,
      "outputs": []
    }
  ]
}