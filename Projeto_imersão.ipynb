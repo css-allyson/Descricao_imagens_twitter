{
  "nbformat": 4,
  "nbformat_minor": 0,
  "metadata": {
    "colab": {
      "provenance": [],
      "authorship_tag": "ABX9TyPFHBi14z4BPRW5szMwSLW6",
      "include_colab_link": true
    },
    "kernelspec": {
      "name": "python3",
      "display_name": "Python 3"
    },
    "language_info": {
      "name": "python"
    }
  },
  "cells": [
    {
      "cell_type": "markdown",
      "metadata": {
        "id": "view-in-github",
        "colab_type": "text"
      },
      "source": [
        "<a href=\"https://colab.research.google.com/github/css-allyson/edital_scan/blob/main/Projeto_imers%C3%A3o.ipynb\" target=\"_parent\"><img src=\"https://colab.research.google.com/assets/colab-badge.svg\" alt=\"Open In Colab\"/></a>"
      ]
    },
    {
      "cell_type": "markdown",
      "source": [
        "Instalação do generative AI"
      ],
      "metadata": {
        "id": "HSLhBWw7DKsx"
      }
    },
    {
      "cell_type": "code",
      "execution_count": 7,
      "metadata": {
        "id": "cpGLeK1zR26f"
      },
      "outputs": [],
      "source": [
        "!pip install -q -U google-generativeai"
      ]
    },
    {
      "cell_type": "markdown",
      "source": [
        "Instalação da biblioteca PyPDF2 para leitura do arquivo .pdf dos editais"
      ],
      "metadata": {
        "id": "Z_7uO-5iDPA7"
      }
    },
    {
      "cell_type": "code",
      "source": [
        "pip install -q -U PyPDF2"
      ],
      "metadata": {
        "id": "VtY1cuqwtLi8"
      },
      "execution_count": 8,
      "outputs": []
    },
    {
      "cell_type": "markdown",
      "source": [
        "Importação dos pacotes necessários"
      ],
      "metadata": {
        "id": "MyN0xW1FDaaI"
      }
    },
    {
      "cell_type": "code",
      "source": [
        "\n",
        "import google.generativeai as genai\n",
        "\n",
        "import requests\n",
        "\n",
        "import PyPDF2\n",
        "\n",
        "# Used to securely store your API key\n",
        "from google.colab import userdata\n",
        "\n",
        "from PIL import Image\n",
        "\n",
        "\n"
      ],
      "metadata": {
        "id": "pBaeKrWAT3dF"
      },
      "execution_count": 9,
      "outputs": []
    },
    {
      "cell_type": "markdown",
      "source": [
        "Chave de API do Gemini"
      ],
      "metadata": {
        "id": "EWXwtuhEDmfh"
      }
    },
    {
      "cell_type": "code",
      "source": [
        "GOOGLE_API_KEY=userdata.get('Gemini')\n",
        "genai.configure(api_key=GOOGLE_API_KEY)"
      ],
      "metadata": {
        "id": "1wQmM4UbknfQ"
      },
      "execution_count": 10,
      "outputs": []
    },
    {
      "cell_type": "code",
      "source": [
        "arquivo = \"Edital_01_2024_Residência_TI-TCE-RN_(T05)_-_Residentes_Retificado_em_03.04.2024 (3).pdf\" # @param {type:\"string\"}\n",
        "\n",
        "pdffileobj=open(arquivo,'rb')"
      ],
      "metadata": {
        "cellView": "form",
        "id": "Q8qrsjMoCRsp"
      },
      "execution_count": 11,
      "outputs": []
    },
    {
      "cell_type": "markdown",
      "source": [
        "Conversão do arquivo .pdf para uma string"
      ],
      "metadata": {
        "id": "GowEEKztDzeI"
      }
    },
    {
      "cell_type": "code",
      "source": [
        "pdfreader=PyPDF2.PdfReader(pdffileobj)\n",
        "\n",
        "x=len(pdfreader.pages)\n",
        "text =\"\"\n",
        "#Adiciona o conteúdo de texto de cada página do arquivo pdf para uma string\n",
        "for pagina in range(len(pdfreader.pages)):\n",
        "  #create a variable that will select the selected number of pages\n",
        "  text +=pdfreader.pages[pagina].extract_text() +\"\\n\""
      ],
      "metadata": {
        "id": "ReXAMOjk02c2"
      },
      "execution_count": 12,
      "outputs": []
    },
    {
      "cell_type": "markdown",
      "source": [
        "Lista de modelos disponíveis"
      ],
      "metadata": {
        "id": "h8-VQRKiU--2"
      }
    },
    {
      "cell_type": "code",
      "source": [
        "for modelo in genai.list_models():\n",
        "  if 'generateContent' in modelo.supported_generation_methods:\n",
        "    print(f'Modelo: {modelo.name}')"
      ],
      "metadata": {
        "colab": {
          "base_uri": "https://localhost:8080/",
          "height": 139
        },
        "id": "lQ39IVQ6UF2G",
        "outputId": "727a0229-bf56-4de2-9937-f3e6f6d756ec"
      },
      "execution_count": 13,
      "outputs": [
        {
          "output_type": "stream",
          "name": "stdout",
          "text": [
            "Modelo: models/gemini-1.0-pro\n",
            "Modelo: models/gemini-1.0-pro-001\n",
            "Modelo: models/gemini-1.0-pro-latest\n",
            "Modelo: models/gemini-1.0-pro-vision-latest\n",
            "Modelo: models/gemini-1.5-pro-latest\n",
            "Modelo: models/gemini-pro\n",
            "Modelo: models/gemini-pro-vision\n"
          ]
        }
      ]
    },
    {
      "cell_type": "markdown",
      "source": [
        "Configuração da geração"
      ],
      "metadata": {
        "id": "ot3s3BZJD7vT"
      }
    },
    {
      "cell_type": "code",
      "source": [
        "generation_config = {\n",
        "    \"candidate_count\":1,\n",
        "    \"temperature\":0.5\n",
        "}"
      ],
      "metadata": {
        "id": "-dNLmG_XWsNz"
      },
      "execution_count": 14,
      "outputs": []
    },
    {
      "cell_type": "markdown",
      "source": [
        "Configuração das opções de segurança"
      ],
      "metadata": {
        "id": "d97s1s8GD97B"
      }
    },
    {
      "cell_type": "code",
      "source": [
        "safety_settings = {\n",
        "    \"HARASSMENT\": \"BLOCK_MEDIUM_AND_ABOVE\",\n",
        "    \"HATE\": \"BLOCK_MEDIUM_AND_ABOVE\",\n",
        "    \"SEXUAL\": \"BLOCK_MEDIUM_AND_ABOVE\",\n",
        "    \"DANGEROUS\": \"BLOCK_MEDIUM_AND_ABOVE\"\n",
        "}"
      ],
      "metadata": {
        "id": "QqoYtOaVXBGi"
      },
      "execution_count": 17,
      "outputs": []
    },
    {
      "cell_type": "markdown",
      "source": [
        "Criação do modelo"
      ],
      "metadata": {
        "id": "8ADPVve7EG7A"
      }
    },
    {
      "cell_type": "code",
      "source": [
        "model = genai.GenerativeModel(model_name= \"gemini-1.0-pro\",\n",
        "                              safety_settings = safety_settings,\n",
        "                              generation_config=generation_config)"
      ],
      "metadata": {
        "id": "V20ofqgfXs3u"
      },
      "execution_count": 18,
      "outputs": []
    },
    {
      "cell_type": "markdown",
      "source": [
        "Criação do prompt utilizando técnica de Chain-of-Thought"
      ],
      "metadata": {
        "id": "zuO4s_NfEJF4"
      }
    },
    {
      "cell_type": "code",
      "source": [
        "prompt_parts = [\n",
        "  \"\"\"Resuma o edital de concurso e destaque as informações principais:\n",
        "  Datas importantes, forma de inscrição, requisitos necessários, documentos necessários, informações da inscrição, local de prova, etapas do processo, horários de aplicação de provas, tipos de vagas\n",
        "  e quantidade de vagas\"\"\",\n",
        "  text,\n",
        "  \"Resumo do edital:\",\n",
        "]"
      ],
      "metadata": {
        "id": "sjJ7lEjAnkFE"
      },
      "execution_count": 19,
      "outputs": []
    },
    {
      "cell_type": "markdown",
      "source": [
        "Resposta do prompt com as iinformações do edital"
      ],
      "metadata": {
        "id": "x9E3nXgNEVFE"
      }
    },
    {
      "cell_type": "code",
      "source": [
        "response = model.generate_content(prompt_parts)\n",
        "print(response.text)"
      ],
      "metadata": {
        "colab": {
          "base_uri": "https://localhost:8080/",
          "height": 885
        },
        "id": "OXD9Tm9HsUoi",
        "outputId": "4d846ab9-51f1-4b28-d414-d73536e2b1e1"
      },
      "execution_count": 21,
      "outputs": [
        {
          "output_type": "stream",
          "name": "stdout",
          "text": [
            "**Edital de Concurso**\n",
            "\n",
            "**Programa de Residência em Tecnologia da Informação do IMD-UFRN**\n",
            "\n",
            "**Vagas:**\n",
            "* 14 vagas para Área de Concentração 1 - Desenvolvimento de Software\n",
            "* 1 vaga reservada para pessoas pretas, pardas ou indígenas\n",
            "\n",
            "**Datas importantes:**\n",
            "* Solicitação de inscrição: 01/04/2024 a 21/04/2024\n",
            "* Prova de Conhecimentos Específicos: 28/04/2024\n",
            "* Prova Prática: 06/05/2024\n",
            "* Resultado final: 22/05/2024\n",
            "\n",
            "**Requisitos:**\n",
            "* Diploma ou certificado de conclusão de curso de Graduação reconhecido pelo MEC\n",
            "* Disponibilidade para carga horária semanal de 30 horas\n",
            "\n",
            "**Documentos necessários:**\n",
            "* Documento de identificação com foto\n",
            "* CPF\n",
            "* Diploma ou certificado de conclusão de curso de Graduação\n",
            "* Autodeclaração étnico-racial (para candidatos de cotas)\n",
            "* Laudo médico (para candidatos com deficiência)\n",
            "\n",
            "**Informações da inscrição:**\n",
            "* Gratuita\n",
            "* Via Sistema Integrado de Gestão de Atividades Acadêmicas (SIGAA) da UFRN\n",
            "\n",
            "**Local de prova:**\n",
            "* Centro Integrado de Vocação Tecnológica (CIVT) do IMD-UFRN, em Natal-RN\n",
            "\n",
            "**Etapas do processo:**\n",
            "* Homologação das inscrições\n",
            "* Prova de Conhecimentos Específicos (classificatória e eliminatória)\n",
            "* Prova Prática (classificatória e eliminatória)\n",
            "* Heteroidentificação (para candidatos de cotas)\n",
            "* Resultado final (classificatório)\n",
            "\n",
            "**Horários de aplicação de provas:**\n",
            "* Prova de Conhecimentos Específicos: 10h às 12h\n",
            "* Prova Prática: 19h às 22h\n",
            "\n",
            "**Tipos de vagas:**\n",
            "* Vagas destinadas à ampla concorrência\n",
            "* Vagas reservadas para pessoas pretas, pardas ou indígenas\n",
            "* Vagas reservadas para pessoas com deficiência\n",
            "\n",
            "**Quantidade de vagas:**\n",
            "* 14 vagas para Área de Concentração 1 - Desenvolvimento de Software\n"
          ]
        }
      ]
    }
  ]
}